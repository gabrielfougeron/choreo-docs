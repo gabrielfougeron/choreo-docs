{
  "cells": [
    {
      "cell_type": "markdown",
      "metadata": {},
      "source": [
        "\n# Convergence analysis of implicit Runge-Kutta methods for ODE IVP\n"
      ]
    },
    {
      "cell_type": "markdown",
      "metadata": {},
      "source": [
        "Evaluation of relative quadrature error with the following parameters:\n\n"
      ]
    },
    {
      "cell_type": "code",
      "execution_count": null,
      "metadata": {
        "collapsed": false
      },
      "outputs": [],
      "source": [
        "eq_names = [\n    \"y'' = -y\"          ,\n    \"y'' = - exp(y)\"    ,\n    \"y'' = xy\"          ,\n    \"y' = Az; z' = By\"  ,\n]\n\nmethod_names = [\n    'Gauss'   ,            \n    'Radau_IA'   ,            \n    'Radau_IIA'   ,            \n    'Radau_IB'   ,            \n    'Radau_IIB'   ,                   \n    'Lobatto_IIIA'   ,            \n    'Lobatto_IIIB'   ,            \n    'Lobatto_IIIC'   ,            \n    'Lobatto_IIIC*'  ,            \n    'Lobatto_IIID'  ,            \n    'Lobatto_IIIS'  ,            \n]\n\n# all_orders = range(2,6)\nall_orders = [4]"
      ]
    },
    {
      "cell_type": "markdown",
      "metadata": {},
      "source": [
        "The following plots give the measured relative error as a function of the number of quadrature subintervals\n\n"
      ]
    },
    {
      "cell_type": "code",
      "execution_count": null,
      "metadata": {
        "collapsed": false
      },
      "outputs": [],
      "source": [
        "plt.show()"
      ]
    },
    {
      "cell_type": "markdown",
      "metadata": {},
      "source": [
        "Error as a function of running time\n\n"
      ]
    },
    {
      "cell_type": "code",
      "execution_count": null,
      "metadata": {
        "collapsed": false
      },
      "outputs": [],
      "source": [
        "plt.show()"
      ]
    }
  ],
  "metadata": {
    "kernelspec": {
      "display_name": "Python 3",
      "language": "python",
      "name": "python3"
    },
    "language_info": {
      "codemirror_mode": {
        "name": "ipython",
        "version": 3
      },
      "file_extension": ".py",
      "mimetype": "text/x-python",
      "name": "python",
      "nbconvert_exporter": "python",
      "pygments_lexer": "ipython3",
      "version": "3.11.2"
    }
  },
  "nbformat": 4,
  "nbformat_minor": 0
}