{
  "cells": [
    {
      "cell_type": "markdown",
      "metadata": {},
      "source": [
        "\n# FFT and symmetries\n\nA few numerical investigation of how symmetries of a signal determine the shape of its discrete Fourier transform, and how to take advantage of this fact to optimize performance.\n"
      ]
    },
    {
      "cell_type": "markdown",
      "metadata": {},
      "source": [
        "The spectral solvers in choreo make extensive use of the discrete Fourier transform to go back end forth between time representation (positions $x_j = x(j/n)$) and frequency representation (Fourier coefficients $c_k$) representation of orbits. Explicit formulae read:\n\n\\begin{align}c_k = \\sum_{j=0}^{n-1} x_j \\exp\\left(-2i\\pi k\\tfrac{j}{n} \\right) \\\\\n   x_k = \\frac{1}{n}\\sum_{j=0}^{n-1} c_j \\exp\\left(2i\\pi k\\tfrac{j}{n} \\right) \\\\\\end{align}\n\n\nThe magic of FFT algorithms enables computation of **all** the positions from **all** the coefficients (and vice-versa) in $\\mathcal{O}(n\\log(n))$ time instead of the naive  $\\mathcal{O}(n^2)$.\n\n"
      ]
    },
    {
      "cell_type": "markdown",
      "metadata": {},
      "source": [
        "Note that the total number of nodes needs to be divisible by 4 to properly account for symmetries\n\n"
      ]
    },
    {
      "cell_type": "code",
      "execution_count": null,
      "metadata": {
        "collapsed": false
      },
      "outputs": [],
      "source": [
        "import numpy as np\nimport scipy\nimport matplotlib.pyplot as plt\nimport sys\n\nif (\"--no-show\" in sys.argv):\n    plt.show = (lambda : None)\n\nn_base = 8  # Base number of nodes. This could be any **even** integer > 0"
      ]
    },
    {
      "cell_type": "markdown",
      "metadata": {},
      "source": [
        "## Real-valued signals and RFFT\n\nSignals we use in choreo are coordinates of the orbits, which are real-valued.\n\n"
      ]
    },
    {
      "cell_type": "code",
      "execution_count": null,
      "metadata": {
        "collapsed": false
      },
      "outputs": [],
      "source": [
        "n = n_base   # Total number of nodes.\n\nt = np.array(range(n))/n\nx = np.array(range(n))+1\n\nerr = np.linalg.norm(x.imag)\nprint(err)\n\nplt.plot(t,x)\nplt.show()"
      ]
    },
    {
      "cell_type": "markdown",
      "metadata": {},
      "source": [
        "Therefore the FFT has Hermitian symmetry, meaning that the Fourier coefficients of negative index are the complex conjugates of their positive counterparts\n\n"
      ]
    },
    {
      "cell_type": "code",
      "execution_count": null,
      "metadata": {
        "collapsed": false
      },
      "outputs": [],
      "source": [
        "fft_c = scipy.fft.fft(x)\nerr = (\n    abs(fft_c[0] - fft_c[0].conjugate()) + \n    np.linalg.norm(fft_c[1:n//2] - fft_c[n//2+1:][::-1].conjugate())\n)\nprint(err)"
      ]
    },
    {
      "cell_type": "markdown",
      "metadata": {},
      "source": [
        "This symmetry can be leveraged to only compute coefficients of positive index using the RFFT\n\n"
      ]
    },
    {
      "cell_type": "code",
      "execution_count": null,
      "metadata": {
        "collapsed": false
      },
      "outputs": [],
      "source": [
        "rfft_c = scipy.fft.rfft(x)\nerr = np.linalg.norm(fft_c[:n//2+1] - rfft_c)\nprint(err)"
      ]
    },
    {
      "cell_type": "markdown",
      "metadata": {},
      "source": [
        "The positions are retrieved using the IRFFT.\n\n"
      ]
    },
    {
      "cell_type": "code",
      "execution_count": null,
      "metadata": {
        "collapsed": false
      },
      "outputs": [],
      "source": [
        "irfft_c = scipy.fft.irfft(rfft_c)\nerr = np.linalg.norm(irfft_c - x)\nprint(err)"
      ]
    },
    {
      "cell_type": "markdown",
      "metadata": {},
      "source": [
        "## Real-valued even signals and DCT I\n\nSuppose a coordinate of the orbit is constrained to be even. \n\n"
      ]
    },
    {
      "cell_type": "code",
      "execution_count": null,
      "metadata": {
        "collapsed": false
      },
      "outputs": [],
      "source": [
        "n = 2*n_base   # Total number of nodes. Necessarily even here.\nt = np.array(range(n))/n\ny = np.array(range(n//2+1))+1\nx = np.zeros(n)\n\nfor i in range(n//2+1):\n    x[i] = y[i]\n\nfor i in range(n//2+1,n):\n    x[i] = y[n - i]\n\nz = np.zeros(n)\nfor i in range(n):\n    z[i] = x[i] - x[(n-i) % n]\n\nerr = np.linalg.norm(z)\nprint(err)\n\nplt.plot(t,x)\nplt.show()"
      ]
    },
    {
      "cell_type": "markdown",
      "metadata": {},
      "source": [
        "In this case, the Fourier transform is purely real, i.e. its imaginary part is zero.\n\n\n"
      ]
    },
    {
      "cell_type": "code",
      "execution_count": null,
      "metadata": {
        "collapsed": false
      },
      "outputs": [],
      "source": [
        "rfft_c = scipy.fft.rfft(x)\nerr = np.linalg.norm(rfft_c.imag)\nprint(err)"
      ]
    },
    {
      "cell_type": "markdown",
      "metadata": {},
      "source": [
        "This symmetry can be leveraged to only compute the real part of the coefficients using the DCT I\n\n"
      ]
    },
    {
      "cell_type": "code",
      "execution_count": null,
      "metadata": {
        "collapsed": false
      },
      "outputs": [],
      "source": [
        "dct_I_c = scipy.fft.dct(x[0:n//2+1],1)\nerr = np.linalg.norm(rfft_c.real - dct_I_c)\nprint(err)"
      ]
    },
    {
      "cell_type": "markdown",
      "metadata": {},
      "source": [
        "Half the positions are retrieved using the IDCT I.\n\n"
      ]
    },
    {
      "cell_type": "code",
      "execution_count": null,
      "metadata": {
        "collapsed": false
      },
      "outputs": [],
      "source": [
        "idct_I_x = scipy.fft.idct(dct_I_c,1)\nerr = np.linalg.norm(x[0:n//2+1] - idct_I_x)\nprint(err)"
      ]
    },
    {
      "cell_type": "markdown",
      "metadata": {},
      "source": [
        "## Real-valued odd signals and DST I\n\nSuppose a coordinate of the orbit is constrained to be odd.\n\n"
      ]
    },
    {
      "cell_type": "code",
      "execution_count": null,
      "metadata": {
        "collapsed": false
      },
      "outputs": [],
      "source": [
        "n = 2*n_base   # Total number of nodes. Necessarily even here.\nt = np.array(range(n))/n\ny = np.array(range(n//2-1))+1\nx = np.zeros(n)\n\nfor i in range(1,n//2):\n    x[i] = y[i-1]\n\nfor i in range(n//2+1,n):\n    x[i] = - y[n - i - 1]\n\nz = np.zeros(n)\nfor i in range(n):\n    z[i] = x[i] + x[(n-i) % n]\n\nerr = np.linalg.norm(z)\nprint(err)\n\nplt.plot(t,x)\nplt.show()"
      ]
    },
    {
      "cell_type": "markdown",
      "metadata": {},
      "source": [
        "In this case, the Fourier transform is purely imaginary, i.e. its real part is zero.\n\n"
      ]
    },
    {
      "cell_type": "code",
      "execution_count": null,
      "metadata": {
        "collapsed": false
      },
      "outputs": [],
      "source": [
        "rfft_c = scipy.fft.rfft(x)\nerr = np.linalg.norm(rfft_c.real)\nprint(err)"
      ]
    },
    {
      "cell_type": "markdown",
      "metadata": {},
      "source": [
        "This symmetry can be leveraged to only compute the imaginary part of the coefficients using the DST I\n\n"
      ]
    },
    {
      "cell_type": "code",
      "execution_count": null,
      "metadata": {
        "collapsed": false
      },
      "outputs": [],
      "source": [
        "dst_I_c = scipy.fft.dst(x[1:n//2],1)\nerr = np.linalg.norm(rfft_c.imag[1:n//2] - (- dst_I_c))\nprint(err)"
      ]
    },
    {
      "cell_type": "markdown",
      "metadata": {},
      "source": [
        "Half the positions are retrieved using the IDST I.\n\n"
      ]
    },
    {
      "cell_type": "code",
      "execution_count": null,
      "metadata": {
        "collapsed": false
      },
      "outputs": [],
      "source": [
        "idst_I_x = scipy.fft.idst(dst_I_c,1)\nerr = np.linalg.norm(x[1:n//2] - idst_I_x)\nprint(err)"
      ]
    },
    {
      "cell_type": "markdown",
      "metadata": {},
      "source": [
        "## Real-valued even-odd signals and DCT III\n\nSuppose a coordinate of the orbit is constrained to be even arround the origin $t=0$ and odd arround a quarter period $t=T/4$.\n\n"
      ]
    },
    {
      "cell_type": "code",
      "execution_count": null,
      "metadata": {
        "collapsed": false
      },
      "outputs": [],
      "source": [
        "n = 4*n_base   # Total number of nodes. Necessarily divisible by 4 here.\nt = np.array(range(n))/n\ny = np.array(range(n//4))+1\nx = np.zeros(n)\nfor i in range(n//4):\n    x[i] = y[i]\n\nfor i in range(n//4+1,n//2):\n    x[i] = - y[n//2 - i]\n\nfor i in range(n//2,n//2 + n//4):\n    x[i] = - y[i-n//2]\n\nfor i in range(n//2 + n//4 + 1,n):\n    x[i] = y[n - i]\n\nz = np.zeros(n)\nfor i in range(n):\n    z[i] = x[i] - x[(n-i) % n]\n\nerr = np.linalg.norm(z)\nprint(err)\n\nfor i in range(n):\n    z[i] = x[i] + x[(n+n//2 - i) % n]\n\nerr = np.linalg.norm(z)\nprint(err)\n\n\nplt.plot(t,x)\nplt.show()"
      ]
    },
    {
      "cell_type": "markdown",
      "metadata": {},
      "source": [
        "In this case, the Fourier transform is purely real and its odd-numbered coefficients are zero.\n\n"
      ]
    },
    {
      "cell_type": "code",
      "execution_count": null,
      "metadata": {
        "collapsed": false
      },
      "outputs": [],
      "source": [
        "rfft_c = scipy.fft.rfft(x)\nerr = np.linalg.norm(rfft_c.imag)\nprint(err)\nerr = np.linalg.norm(rfft_c[::2])\nprint(err)"
      ]
    },
    {
      "cell_type": "markdown",
      "metadata": {},
      "source": [
        "This symmetry can be leveraged to only compute the non-zero coefficients using the DCT III\n\n"
      ]
    },
    {
      "cell_type": "code",
      "execution_count": null,
      "metadata": {
        "collapsed": false
      },
      "outputs": [],
      "source": [
        "dct_III_c = scipy.fft.dct(x[0:n//4],3)\nerr = np.linalg.norm(rfft_c.real[1::2] - 2*dct_III_c)\nprint(err)"
      ]
    },
    {
      "cell_type": "markdown",
      "metadata": {},
      "source": [
        "A quarter of the positions are retrieved using the IDCT III.\n\n"
      ]
    },
    {
      "cell_type": "code",
      "execution_count": null,
      "metadata": {
        "collapsed": false
      },
      "outputs": [],
      "source": [
        "idct_III_c = scipy.fft.idct(dct_III_c,3)\nerr =  np.linalg.norm(x[0:n//4] - idct_III_c)\nprint(err)"
      ]
    },
    {
      "cell_type": "markdown",
      "metadata": {},
      "source": [
        "## Real-valued odd-even signals and DST III\n\nSuppose a coordinate of the orbit is constrained to be odd arround the origin $t=0$ and even arround a quarter period $t=T/4$.\n\n"
      ]
    },
    {
      "cell_type": "code",
      "execution_count": null,
      "metadata": {
        "collapsed": false
      },
      "outputs": [],
      "source": [
        "n = 4*n_base   # Total number of nodes. Necessarily divisible by 4 here.\nt = np.array(range(n))/n\ny = np.array(range(n//4))+1\nx = np.zeros(n)\n\nfor i in range(1,n//4 + 1):\n    x[i] = y[i-1]\n\nfor i in range(n//4+1,n//2):\n    x[i] = y[n//2-1 - i]\n\nfor i in range(n//2+1,n//2 + n//4+1):\n    x[i] = - y[i-(n//2+1)]\n\nfor i in range(n//2 + n//4+1,n):\n    x[i] = -y[n-1 - i]\n\nz = np.zeros(n)\nfor i in range(n):\n    z[i] = x[i] + x[(n-i) % n]\n\nerr = np.linalg.norm(z)\nprint(err)\n\nfor i in range(n):\n    z[i] = x[i] - x[(n+n//2 - i) % n]\n\nerr = np.linalg.norm(z)\nprint(err)\n\nplt.plot(t,x)\nplt.show()"
      ]
    },
    {
      "cell_type": "markdown",
      "metadata": {},
      "source": [
        "In this case, the Fourier transform is purely imaginary and its even-numbered coefficients are zero.\n\n"
      ]
    },
    {
      "cell_type": "code",
      "execution_count": null,
      "metadata": {
        "collapsed": false
      },
      "outputs": [],
      "source": [
        "rfft_c = scipy.fft.rfft(x)\nerr = np.linalg.norm(rfft_c.real)\nprint(err)\nerr = np.linalg.norm(rfft_c[::2])\nprint(err)"
      ]
    },
    {
      "cell_type": "markdown",
      "metadata": {},
      "source": [
        "This symmetry can be leveraged to only compute the non-zero coefficients using the DST III\n\n"
      ]
    },
    {
      "cell_type": "code",
      "execution_count": null,
      "metadata": {
        "collapsed": false
      },
      "outputs": [],
      "source": [
        "dst_III_c = scipy.fft.dst(x[1:n//4+1],3)\nerr = np.linalg.norm(rfft_c.imag[1::2] - (-2*dst_III_c))\nprint(err)"
      ]
    },
    {
      "cell_type": "markdown",
      "metadata": {},
      "source": [
        "A quarter of the positions are retrieved using the IDCT III.\n\n"
      ]
    },
    {
      "cell_type": "code",
      "execution_count": null,
      "metadata": {
        "collapsed": false
      },
      "outputs": [],
      "source": [
        "idst_III_c = scipy.fft.idst(dst_III_c,3)\nerr = np.linalg.norm(x[1:n//4+1] - idst_III_c)\nprint(err)"
      ]
    },
    {
      "cell_type": "markdown",
      "metadata": {},
      "source": [
        "## Real-valued signals with a subperiod\n\nSuppose a coordinate of the orbit is constrained to have a period that is a multiple of the base period\n\n"
      ]
    },
    {
      "cell_type": "code",
      "execution_count": null,
      "metadata": {
        "collapsed": false
      },
      "outputs": [],
      "source": [
        "sub_period = 3\nn = n_base * sub_period # Total number of nodes. Necessarily a multiple of the sub period.\nt = np.array(range(n))/n\ny = np.array(range(n_base))\nx = np.zeros(n)\n\nfor i in range(sub_period):\n    for j in range(n_base):\n        x[j+i*n_base] = y[j]\n\nz = np.zeros(n)\nfor i_sub in range(sub_period-1):\n    for i in range(n):\n        z[i] = x[i] - x[(i+(i_sub+1)*n_base) % n]\n\n    err = np.linalg.norm(z)\n    print(err)\n\nplt.plot(t,x)\nplt.show()"
      ]
    },
    {
      "cell_type": "markdown",
      "metadata": {},
      "source": [
        "In this case, the coefficients of the Fourier transform that are not indexed by a multiple of the subperiod are zero.\n\n"
      ]
    },
    {
      "cell_type": "code",
      "execution_count": null,
      "metadata": {
        "collapsed": false
      },
      "outputs": [],
      "source": [
        "rfft_c = scipy.fft.rfft(x)\nerr = 0\nfor i in range(1,sub_period):\n    err += np.linalg.norm(rfft_c[i::sub_period])\n\nprint(err)"
      ]
    },
    {
      "cell_type": "markdown",
      "metadata": {},
      "source": [
        "This symmetry can be leveraged to only compute the non-zero coefficients using the RFFT on a sub-period only\n\n"
      ]
    },
    {
      "cell_type": "code",
      "execution_count": null,
      "metadata": {
        "collapsed": false
      },
      "outputs": [],
      "source": [
        "rfftsub_c = scipy.fft.rfft(x[:n_base])\nerr = np.linalg.norm(rfft_c[::sub_period] - sub_period*rfftsub_c)\nprint(err)"
      ]
    },
    {
      "cell_type": "markdown",
      "metadata": {},
      "source": [
        "The positions on a sub-period are retrieved using the RFFT.\n\n"
      ]
    },
    {
      "cell_type": "code",
      "execution_count": null,
      "metadata": {
        "collapsed": false
      },
      "outputs": [],
      "source": [
        "irfftsub_c = scipy.fft.irfft(rfftsub_c)\nerr = np.linalg.norm(x[:n_base] - irfftsub_c)\nprint(err)"
      ]
    }
  ],
  "metadata": {
    "kernelspec": {
      "display_name": "Python 3",
      "language": "python",
      "name": "python3"
    },
    "language_info": {
      "codemirror_mode": {
        "name": "ipython",
        "version": 3
      },
      "file_extension": ".py",
      "mimetype": "text/x-python",
      "name": "python",
      "nbconvert_exporter": "python",
      "pygments_lexer": "ipython3",
      "version": "3.11.2"
    }
  },
  "nbformat": 4,
  "nbformat_minor": 0
}