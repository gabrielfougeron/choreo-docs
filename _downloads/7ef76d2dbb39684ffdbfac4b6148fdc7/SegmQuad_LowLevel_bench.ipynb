{
  "cells": [
    {
      "cell_type": "markdown",
      "metadata": {},
      "source": [
        "\n# Benchmark of LowLevelCallable for Segment Quadrature\n"
      ]
    },
    {
      "cell_type": "markdown",
      "metadata": {},
      "source": [
        "Definition of benchmarked integrands\n\n"
      ]
    },
    {
      "cell_type": "code",
      "execution_count": null,
      "metadata": {
        "collapsed": false
      },
      "outputs": [],
      "source": [
        "all_funs_scalar = {\n    'py_fun' : test_from_scalar_fun(py_fun) ,\n    'py_fun_array' : test_from_scalar_fun(py_fun_array) ,\n    'nb_fun' : test_from_scalar_fun(nb_fun) ,\n    'nb_fun_pointer' : test_from_scalar_fun(nb_fun_pointer) ,\n    'nb_fun_inplace_pointer' : test_from_scalar_fun(nb_fun_inplace_pointer) ,\n    'py_fun_in_pyx' : test_from_scalar_fun(choreo.scipy_plus.cython.test.single_py_fun) ,\n    'cy_fun_pointer_LowLevel' : test_from_scalar_fun(scipy.LowLevelCallable.from_cython(choreo.scipy_plus.cython.test, \"single_cy_fun_pointer\")),\n    'cy_fun_memoryview_LowLevel' : test_from_scalar_fun(scipy.LowLevelCallable.from_cython(choreo.scipy_plus.cython.test, \"single_cy_fun_memoryview\")),\n    'cy_fun_oneval_LowLevel' : test_from_scalar_fun(scipy.LowLevelCallable.from_cython(choreo.scipy_plus.cython.test, \"single_cy_fun_oneval\")),\n}\n\n\nall_funs_vect = {\n    'py_fun' : None, \n    'py_fun_array' : test_from_vect_fun(mul_py_fun_array) ,\n    'nb_fun' : None ,\n    'nb_fun_pointer' : test_from_vect_fun(mul_nb_fun_pointer) ,\n    'nb_fun_inplace_pointer' : test_from_vect_fun(mul_nb_fun_inplace_pointer) ,\n    'py_fun_in_pyx' : test_from_vect_fun(choreo.scipy_plus.cython.test.mul_py_fun),\n    'cy_fun_pointer_LowLevel' : test_from_vect_fun(scipy.LowLevelCallable.from_cython(choreo.scipy_plus.cython.test, \"mul_cy_fun_pointer\")),\n    'cy_fun_memoryview_LowLevel' : test_from_vect_fun(scipy.LowLevelCallable.from_cython(choreo.scipy_plus.cython.test, \"mul_cy_fun_memoryview\")),\n}\n\nall_benchs = {\n    'Scalar function' : all_funs_scalar  ,\n    f'Vector function of size {choreo.scipy_plus.cython.test.mul_size_py}' : all_funs_vect  ,\n}"
      ]
    }
  ],
  "metadata": {
    "kernelspec": {
      "display_name": "Python 3",
      "language": "python",
      "name": "python3"
    },
    "language_info": {
      "codemirror_mode": {
        "name": "ipython",
        "version": 3
      },
      "file_extension": ".py",
      "mimetype": "text/x-python",
      "name": "python",
      "nbconvert_exporter": "python",
      "pygments_lexer": "ipython3",
      "version": "3.11.2"
    }
  },
  "nbformat": 4,
  "nbformat_minor": 0
}