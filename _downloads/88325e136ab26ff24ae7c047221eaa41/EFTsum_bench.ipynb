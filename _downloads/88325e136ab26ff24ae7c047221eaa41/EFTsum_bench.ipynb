{
  "cells": [
    {
      "cell_type": "markdown",
      "metadata": {},
      "source": [
        "\n# Benchmark of Error-Free Transforms for summation\n"
      ]
    },
    {
      "cell_type": "markdown",
      "metadata": {},
      "source": [
        "This benchmark compares accuracy and efficiency of several summation algorithms in floating point arithmetics\n\n"
      ]
    },
    {
      "cell_type": "code",
      "execution_count": null,
      "metadata": {
        "collapsed": false
      },
      "outputs": [],
      "source": [
        "def naive_sum(x):\n    return choreo.scipy_plus.cython.eft_lib.FastSumK(x,0)\n\ndef builtin_sum(x):\n    return sum(x)\n\ndef np_sum(x):\n    return np.sum(x)\n\ndef m_fsum(x):\n    return m.fsum(x)\n\ndef SumK_1(x):\n    return choreo.scipy_plus.cython.eft_lib.SumK(x,1)\n\ndef SumK_2(x):\n    return choreo.scipy_plus.cython.eft_lib.SumK(x,2)\n\ndef SumK_3(x):\n    return choreo.scipy_plus.cython.eft_lib.SumK(x,3)\n\ndef FastSumK_1(x):\n    return choreo.scipy_plus.cython.eft_lib.FastSumK(x,1)\n\ndef FastSumK_2(x):\n    return choreo.scipy_plus.cython.eft_lib.FastSumK(x,2)\n\ndef FastSumK_3(x):\n    return choreo.scipy_plus.cython.eft_lib.FastSumK(x,3)"
      ]
    },
    {
      "cell_type": "code",
      "execution_count": null,
      "metadata": {
        "collapsed": false
      },
      "outputs": [],
      "source": [
        "def prepare_x(n):\n    x = np.random.random(n)\n    return [(x, 'x')]"
      ]
    }
  ],
  "metadata": {
    "kernelspec": {
      "display_name": "Python 3",
      "language": "python",
      "name": "python3"
    },
    "language_info": {
      "codemirror_mode": {
        "name": "ipython",
        "version": 3
      },
      "file_extension": ".py",
      "mimetype": "text/x-python",
      "name": "python",
      "nbconvert_exporter": "python",
      "pygments_lexer": "ipython3",
      "version": "3.11.2"
    }
  },
  "nbformat": 4,
  "nbformat_minor": 0
}