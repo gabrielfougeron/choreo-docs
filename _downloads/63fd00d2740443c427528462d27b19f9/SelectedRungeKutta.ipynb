{
  "cells": [
    {
      "cell_type": "markdown",
      "metadata": {},
      "source": [
        "\n# Convergence analysis of Runge-Kutta methods for ODE IVP\n"
      ]
    },
    {
      "cell_type": "markdown",
      "metadata": {},
      "source": [
        "Evaluation of relative quadrature error with the following parameters:\n\n"
      ]
    },
    {
      "cell_type": "code",
      "execution_count": null,
      "metadata": {
        "collapsed": false
      },
      "outputs": [],
      "source": [
        "eq_names = [\n    \"y'' = -y\"          ,\n    \"y'' = - exp(y)\"    ,\n    \"y'' = xy\"          ,\n    \"y' = Az; z' = By\"  ,\n]\n\nimplicit_methods = {\n    f'{rk_name} {order}' : choreo.scipy_plus.multiprec_tables.ComputeImplicitSymplecticRKTablePair_Gauss(order,method=rk_name) for rk_name, order in itertools.product([\"Gauss\"], [2,4,6,8])\n    # f'{rk_name} {order}' : choreo.scipy_plus.multiprec_tables.ComputeImplicitSymplecticRKTablePair_Gauss(order, method=rk_name) for rk_name, order in itertools.product([\"Radau_IIA\"], [2,3,4,5])\n}\n\nexplicit_methods = {\n    rk_name : getattr(globals()['precomputed_tables'], rk_name) for rk_name in [\n            'McAte4'    ,\n            'McAte5'    ,\n            'KahanLi8'  ,\n            'SofSpa10'  ,\n    ]\n}\n\nscipy_methods = [\n    \"RK45\" ,  \n    \"RK23\" ,  \n    \"DOP853\" ,  \n    \"Radau\" ,  \n    \"BDF\" ,  \n    \"LSODA\" ,  \n]"
      ]
    },
    {
      "cell_type": "markdown",
      "metadata": {},
      "source": [
        "The following plots give the measured relative error as a function of the number of quadrature subintervals\n\n"
      ]
    },
    {
      "cell_type": "code",
      "execution_count": null,
      "metadata": {
        "collapsed": false
      },
      "outputs": [],
      "source": [
        "plt.show()"
      ]
    },
    {
      "cell_type": "markdown",
      "metadata": {},
      "source": [
        "Error as a function of running time\n\n"
      ]
    },
    {
      "cell_type": "code",
      "execution_count": null,
      "metadata": {
        "collapsed": false
      },
      "outputs": [],
      "source": [
        "plt.show()"
      ]
    }
  ],
  "metadata": {
    "kernelspec": {
      "display_name": "Python 3",
      "language": "python",
      "name": "python3"
    },
    "language_info": {
      "codemirror_mode": {
        "name": "ipython",
        "version": 3
      },
      "file_extension": ".py",
      "mimetype": "text/x-python",
      "name": "python",
      "nbconvert_exporter": "python",
      "pygments_lexer": "ipython3",
      "version": "3.11.2"
    }
  },
  "nbformat": 4,
  "nbformat_minor": 0
}