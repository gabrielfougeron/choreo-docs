{
  "cells": [
    {
      "cell_type": "markdown",
      "metadata": {},
      "source": [
        "\n# Valiadation of tangent integration alorithms using Finite Differences\n"
      ]
    },
    {
      "cell_type": "markdown",
      "metadata": {},
      "source": [
        "Evaluation of relative quadrature error with the following parameters:\n\n"
      ]
    },
    {
      "cell_type": "code",
      "execution_count": null,
      "metadata": {
        "collapsed": false
      },
      "outputs": [],
      "source": [
        "ndim = 2\n\nA = np.random.random((ndim,ndim))\n\ndef fun(t,x):\n    \n    return np.dot(A,x)\n\ndef gun(t,x):\n    \n    return np.dot(A,x)*np.dot(x,x)\n\ndef gradfun(t,x,dx):\n\n    return np.dot(A,dx)\n\ndef gradgun(t,x,dx):\n\n    dxr = np.asarray(dx).reshape(-1)\n    resr = 2*np.dot(x,dxr)*np.dot(A,x) + np.dot(x,x)*np.dot(A,dxr)\n    return resr.reshape(-1,1)\n\n\n\nplt.show()"
      ]
    },
    {
      "cell_type": "code",
      "execution_count": null,
      "metadata": {
        "collapsed": false
      },
      "outputs": [],
      "source": [
        "plt.close()\n\nnint = 100\n\nt_span = (0.,0.01)\n\ndef int_fun(x):\n    \n    xx = x[:ndim].copy()\n    vx = x[ndim:].copy()\n    \n    resx, resv = choreo.scipy_plus.ODE.ImplicitSymplecticIVP(\n        fun         ,\n        gun         ,\n        t_span      ,\n        xx          ,\n        vx          ,\n        rk          ,\n        rk          ,\n        nint = nint ,\n    )\n\n    return np.ascontiguousarray(np.concatenate((resx,resv)).reshape(-1))\n\ndef int_grad_fun_impl(x,dx):\n    \n    xx = x[:ndim].copy()\n    vx = x[ndim:].copy()\n    \n    dxx = dx[:ndim].reshape(ndim,-1).copy()\n    dxv = dx[ndim:].reshape(ndim,-1).copy()\n    \n    resx, resv, grad_resx, grad_resv = choreo.scipy_plus.ODE.ImplicitSymplecticIVP(\n        fun         ,\n        gun         ,\n        t_span      ,\n        xx          ,\n        vx          ,\n        rk          ,\n        rk          ,\n        grad_fun = gradfun  ,\n        grad_gun = gradgun  ,\n        grad_x0 = dxx       ,\n        grad_v0 = dxv       ,\n        nint = nint         ,\n    )\n    \n    return np.ascontiguousarray(np.concatenate((grad_resx,grad_resv)).reshape(-1))\n\n\n\n\n\nplt.show()"
      ]
    },
    {
      "cell_type": "code",
      "execution_count": null,
      "metadata": {
        "collapsed": false
      },
      "outputs": [],
      "source": [
        "plt.close()\n\ndef int_grad_fun_expl(x,dx):\n    \n    xx = x[:ndim].copy()\n    vx = x[ndim:].copy()\n    \n    dxx = dx[:ndim].reshape(ndim,-1).copy()\n    dxv = dx[ndim:].reshape(ndim,-1).copy()\n    \n    resx, resv, grad_resx, grad_resv = choreo.scipy_plus.ODE.ExplicitSymplecticIVP(\n        fun         ,\n        gun         ,\n        t_span      ,\n        xx          ,\n        vx          ,\n        rk_expl          ,\n        grad_fun = gradfun  ,\n        grad_gun = gradgun  ,\n        grad_x0 = dxx       ,\n        grad_v0 = dxv       ,\n        nint = nint         ,\n    )\n    \n    return np.ascontiguousarray(np.concatenate((grad_resx,grad_resv)).reshape(-1))\n\nfig, ax = plt.subplots(\n    figsize = figsize,\n    dpi = dpi   ,\n)\n\nfor i, order in enumerate(orderlist):\n\n    err = choreo.scipy_plus.test.compare_FD_and_exact_grad(int_fun,int_grad_fun_expl,xo,dx=dxo,epslist=epslist,order=order)\n\n    plt.plot(epslist,err)\n\nax.set_xscale('log')\nax.set_yscale('log')\n\nplt.tight_layout()\n\nplt.show()"
      ]
    }
  ],
  "metadata": {
    "kernelspec": {
      "display_name": "Python 3",
      "language": "python",
      "name": "python3"
    },
    "language_info": {
      "codemirror_mode": {
        "name": "ipython",
        "version": 3
      },
      "file_extension": ".py",
      "mimetype": "text/x-python",
      "name": "python",
      "nbconvert_exporter": "python",
      "pygments_lexer": "ipython3",
      "version": "3.11.2"
    }
  },
  "nbformat": 4,
  "nbformat_minor": 0
}