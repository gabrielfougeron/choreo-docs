{
  "cells": [
    {
      "cell_type": "markdown",
      "metadata": {},
      "source": [
        "\n# Benchmark of FFT algorithms\n"
      ]
    },
    {
      "cell_type": "markdown",
      "metadata": {},
      "source": [
        "This benchmark compares execution times of several FFT functions using different backends\nThe plots give the measured execution time of the FFT as a function of the input length\n\n"
      ]
    },
    {
      "cell_type": "code",
      "execution_count": null,
      "metadata": {
        "collapsed": false
      },
      "outputs": [],
      "source": [
        "def fft(x):\n    scipy.fft.fft(x)\n\ndef rfft(x):\n    scipy.fft.rfft(x)\n\ndef dct_I(x):\n    scipy.fft.dct(x,1)\n\ndef dst_I(x):\n    scipy.fft.dst(x,1)\n\ndef dct_III(x):\n    scipy.fft.dct(x,3)\n\ndef dst_III(x):\n    scipy.fft.dst(x,3)"
      ]
    }
  ],
  "metadata": {
    "kernelspec": {
      "display_name": "Python 3",
      "language": "python",
      "name": "python3"
    },
    "language_info": {
      "codemirror_mode": {
        "name": "ipython",
        "version": 3
      },
      "file_extension": ".py",
      "mimetype": "text/x-python",
      "name": "python",
      "nbconvert_exporter": "python",
      "pygments_lexer": "ipython3",
      "version": "3.11.2"
    }
  },
  "nbformat": 4,
  "nbformat_minor": 0
}